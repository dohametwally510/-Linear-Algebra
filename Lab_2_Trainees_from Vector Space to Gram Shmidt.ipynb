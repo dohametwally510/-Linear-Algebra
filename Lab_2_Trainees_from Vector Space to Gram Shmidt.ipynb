{
 "cells": [
  {
   "cell_type": "markdown",
   "id": "dd5fdc2a",
   "metadata": {},
   "source": [
    "## Linear Combination\n",
    "### Use NumPy"
   ]
  },
  {
   "cell_type": "code",
   "execution_count": 1,
   "id": "244e8fbf",
   "metadata": {},
   "outputs": [],
   "source": [
    "import numpy as np\n",
    "import sympy as sm"
   ]
  },
  {
   "cell_type": "markdown",
   "id": "38364291",
   "metadata": {},
   "source": [
    "$$v_1=\\begin{bmatrix} 1 \\\\ 2 \\\\ 3 \\end{bmatrix},\n",
    "v_2=\\begin{bmatrix} 3 \\\\ 5 \\\\ 1 \\end{bmatrix},\n",
    "v_3=\\begin{bmatrix} 0 \\\\ 0 \\\\ 8 \\end{bmatrix}$$\n",
    "- Find <b>b</b> vector where $$b=3v_1+0v_2+0v_3$$\n",
    "- Find <b>x</b> vector where $$x=-v_1+v_2-0.5v_3$$"
   ]
  },
  {
   "cell_type": "code",
   "execution_count": 2,
   "id": "baefab4f",
   "metadata": {},
   "outputs": [],
   "source": [
    "v1 = np.array([1,2,3])\n",
    "v2 = np.array([3,5,1])\n",
    "v3 = np.array([0,0,8])"
   ]
  },
  {
   "cell_type": "code",
   "execution_count": 9,
   "id": "bde8f8e1",
   "metadata": {},
   "outputs": [
    {
     "name": "stdout",
     "output_type": "stream",
     "text": [
      "[3 6 9]\n"
     ]
    }
   ],
   "source": [
    "b = 3*v1 + 0*v2 + 0*v3\n",
    "print(\"b = \"  ,b)"
   ]
  },
  {
   "cell_type": "code",
   "execution_count": 12,
   "id": "d0cad742",
   "metadata": {},
   "outputs": [
    {
     "name": "stdout",
     "output_type": "stream",
     "text": [
      "x =  [ 2.  3. -6.]\n"
     ]
    }
   ],
   "source": [
    "x = -1*v1 + 1*v2 + -0.5*v3\n",
    "print(\"x = \",x)"
   ]
  },
  {
   "cell_type": "code",
   "execution_count": 5,
   "id": "fe0eb854",
   "metadata": {},
   "outputs": [
    {
     "name": "stdout",
     "output_type": "stream",
     "text": [
      "b:\n",
      "[[3]\n",
      " [6]\n",
      " [9]]\n",
      "\n",
      "x:\n",
      "[[ 2.]\n",
      " [ 3.]\n",
      " [-6.]]\n"
     ]
    }
   ],
   "source": []
  },
  {
   "cell_type": "markdown",
   "id": "54955382",
   "metadata": {},
   "source": [
    "## Vector Span\n",
    "### Use Numpy (matrix inverse) and SymPy (rref)"
   ]
  },
  {
   "cell_type": "markdown",
   "id": "9d440a16",
   "metadata": {},
   "source": [
    "#### Is $$v=\\begin{bmatrix} 19 \\\\ 10 \\\\ -1 \\end{bmatrix}$$ in the span of \n",
    "$$v_1=\\begin{bmatrix} 3 \\\\ -1 \\\\ 2 \\end{bmatrix},\n",
    "v_2=\\begin{bmatrix} -5 \\\\ 0 \\\\ 1 \\end{bmatrix},\n",
    "v_3=\\begin{bmatrix} 1 \\\\ 7 \\\\ -4 \\end{bmatrix}$$"
   ]
  },
  {
   "cell_type": "code",
   "execution_count": 30,
   "id": "cb24f688",
   "metadata": {},
   "outputs": [],
   "source": [
    "#SymPy (rref)\n",
    "M1 = sm.Matrix([[3,-5,1,19],\n",
    "               [-1,0,7,10],\n",
    "               [2,1,-4,-1]])"
   ]
  },
  {
   "cell_type": "code",
   "execution_count": 19,
   "id": "f9c50f8f",
   "metadata": {},
   "outputs": [
    {
     "data": {
      "text/plain": [
       "(Matrix([\n",
       " [1, 0, 0,  4],\n",
       " [0, 1, 0, -1],\n",
       " [0, 0, 1,  2]]),\n",
       " (0, 1, 2))"
      ]
     },
     "execution_count": 19,
     "metadata": {},
     "output_type": "execute_result"
    }
   ],
   "source": [
    "M1.rref()"
   ]
  },
  {
   "cell_type": "code",
   "execution_count": 33,
   "id": "36b0a3d0",
   "metadata": {},
   "outputs": [],
   "source": [
    "#matrix inverse\n",
    "M2 = np.array([[3,-5,1],\n",
    "               [-1,0,7],\n",
    "               [2,1,-4]])\n",
    "\n",
    "v = np.array([[19],\n",
    "               [10],\n",
    "               [-1]])"
   ]
  },
  {
   "cell_type": "code",
   "execution_count": 36,
   "id": "6da888d4",
   "metadata": {},
   "outputs": [
    {
     "data": {
      "text/plain": [
       "array([[ 4.],\n",
       "       [-1.],\n",
       "       [ 2.]])"
      ]
     },
     "execution_count": 36,
     "metadata": {},
     "output_type": "execute_result"
    }
   ],
   "source": [
    "np.linalg.inv(M2) @ v "
   ]
  },
  {
   "cell_type": "code",
   "execution_count": 12,
   "id": "f0d48b0c",
   "metadata": {},
   "outputs": [
    {
     "name": "stdout",
     "output_type": "stream",
     "text": [
      "[[ 4.]\n",
      " [-1.]\n",
      " [ 2.]]\n"
     ]
    }
   ],
   "source": []
  },
  {
   "cell_type": "markdown",
   "id": "821a71ae",
   "metadata": {},
   "source": [
    "## Vector Linear Independence\n",
    "### Use rref and determinant\n",
    "- Consider the following sets of vectors in R3. If the set is independent, prove it. \n",
    "- If the set is dependent, find a nontrivial linear combination of the vectors which is equal to 0.\n",
    "    - {(2, 0, -3), (1, 1, 1), (1, 7, 2)}.\n",
    "    - {(1, 2, -1), (4, 1, 3), (-10, 1, -11)}.\n",
    "\n",
    "<b>Hint: we have to determine whether this implies that 𝒂=𝒃=𝒄=𝟎.</b>"
   ]
  },
  {
   "cell_type": "code",
   "execution_count": 47,
   "id": "a7da2fd0",
   "metadata": {},
   "outputs": [],
   "source": [
    "M1 = sm.Matrix([[2,1,1],\n",
    "               [0,1,7],\n",
    "               [-3,1,2]])"
   ]
  },
  {
   "cell_type": "code",
   "execution_count": 48,
   "id": "1552d454",
   "metadata": {},
   "outputs": [
    {
     "data": {
      "text/plain": [
       "(Matrix([\n",
       " [1, 0, 0],\n",
       " [0, 1, 0],\n",
       " [0, 0, 1]]),\n",
       " (0, 1, 2))"
      ]
     },
     "execution_count": 48,
     "metadata": {},
     "output_type": "execute_result"
    }
   ],
   "source": [
    "M1.rref()"
   ]
  },
  {
   "cell_type": "code",
   "execution_count": 14,
   "id": "51c3ffd9",
   "metadata": {},
   "outputs": [
    {
     "data": {
      "text/plain": [
       "(Matrix([\n",
       " [1, 0, 0],\n",
       " [0, 1, 0],\n",
       " [0, 0, 1]]),\n",
       " (0, 1, 2))"
      ]
     },
     "execution_count": 14,
     "metadata": {},
     "output_type": "execute_result"
    }
   ],
   "source": []
  },
  {
   "cell_type": "markdown",
   "id": "6820a20a",
   "metadata": {},
   "source": [
    "the set is independent"
   ]
  },
  {
   "cell_type": "markdown",
   "id": "1df297df",
   "metadata": {},
   "source": [
    "(Matrix(\n",
    "\n",
    "[[1, 0, 0],\n",
    " \n",
    " [0, 1, 0],\n",
    " \n",
    " [0, 0, 1]]\n",
    " \n",
    " ,\n",
    " (0, 1, 2))"
   ]
  },
  {
   "cell_type": "code",
   "execution_count": 50,
   "id": "9cb67a0a",
   "metadata": {},
   "outputs": [
    {
     "data": {
      "text/latex": [
       "$\\displaystyle -28$"
      ],
      "text/plain": [
       "-28"
      ]
     },
     "execution_count": 50,
     "metadata": {},
     "output_type": "execute_result"
    }
   ],
   "source": [
    "sm.det(M1)"
   ]
  },
  {
   "cell_type": "code",
   "execution_count": 44,
   "id": "ebe34b16",
   "metadata": {},
   "outputs": [],
   "source": [
    "\n",
    "M1 = np.array([[2,1,1],\n",
    "               [0,1,7],\n",
    "               [-3,1,2]])"
   ]
  },
  {
   "cell_type": "code",
   "execution_count": 45,
   "id": "4a8b87f4",
   "metadata": {},
   "outputs": [
    {
     "data": {
      "text/plain": [
       "-28.00000000000001"
      ]
     },
     "execution_count": 45,
     "metadata": {},
     "output_type": "execute_result"
    }
   ],
   "source": [
    "np.linalg.det(M1)"
   ]
  },
  {
   "cell_type": "code",
   "execution_count": 15,
   "id": "a72c7e98",
   "metadata": {},
   "outputs": [
    {
     "data": {
      "text/latex": [
       "$\\displaystyle -28$"
      ],
      "text/plain": [
       "-28"
      ]
     },
     "execution_count": 15,
     "metadata": {},
     "output_type": "execute_result"
    }
   ],
   "source": []
  },
  {
   "cell_type": "code",
   "execution_count": 41,
   "id": "ddef10e0",
   "metadata": {},
   "outputs": [],
   "source": [
    "#set2\n",
    "M = sm.Matrix([[1,4,-10],\n",
    "               [2,1,1],\n",
    "               [-1,3,-11]])"
   ]
  },
  {
   "cell_type": "code",
   "execution_count": 46,
   "id": "fca2a940",
   "metadata": {},
   "outputs": [
    {
     "data": {
      "text/plain": [
       "(Matrix([\n",
       " [1, 0,  2],\n",
       " [0, 1, -3],\n",
       " [0, 0,  0]]),\n",
       " (0, 1))"
      ]
     },
     "execution_count": 46,
     "metadata": {},
     "output_type": "execute_result"
    }
   ],
   "source": [
    "M.rref()"
   ]
  },
  {
   "cell_type": "markdown",
   "id": "7c7d2d61",
   "metadata": {},
   "source": [
    "The set is dependent.\n",
    "\n",
    "v1=1v1 + 0v2 +0v3         \n",
    "//v1 in Independent\n",
    "\n",
    "v2=0v1 + 1v2  + 0v3      \n",
    "//v2 in Independent\n",
    "\n",
    "v3=2v1 + -3v2 + 0v3     \n",
    "//v3 is dependent on v1 and v2"
   ]
  },
  {
   "cell_type": "code",
   "execution_count": 51,
   "id": "e094ea5c",
   "metadata": {},
   "outputs": [
    {
     "data": {
      "text/latex": [
       "$\\displaystyle 0$"
      ],
      "text/plain": [
       "0"
      ]
     },
     "execution_count": 51,
     "metadata": {},
     "output_type": "execute_result"
    }
   ],
   "source": [
    "sm.det(M)"
   ]
  },
  {
   "cell_type": "code",
   "execution_count": 19,
   "id": "4c52897d",
   "metadata": {},
   "outputs": [
    {
     "data": {
      "text/latex": [
       "$\\displaystyle 0$"
      ],
      "text/plain": [
       "0"
      ]
     },
     "execution_count": 19,
     "metadata": {},
     "output_type": "execute_result"
    }
   ],
   "source": []
  },
  {
   "cell_type": "markdown",
   "id": "c88fb001",
   "metadata": {},
   "source": [
    "## Linear Transformation\n",
    "### Ex.1"
   ]
  },
  {
   "cell_type": "markdown",
   "id": "9ef341fd",
   "metadata": {},
   "source": [
    "$$T=\\begin{bmatrix} 1&2 \\\\ 3&7 \\end{bmatrix}$$\n",
    "- Write the linear transformation expression of this matrix. i.e. Linear functions of x,y. \n",
    "- Apply the transformation matrix <b>T</b> to the following vectors:\n",
    "$$\\begin{bmatrix} 1 \\\\ 0 \\end{bmatrix},\\begin{bmatrix} 0 \\\\ 1 \\end{bmatrix} $$\n",
    "- Find all points <b>(x,y)</b> such that <b>T(x,y)=(1,0)</b>"
   ]
  },
  {
   "attachments": {
    "image.png": {
     "image/png": "[encoded data removed]"
    }
   },
   "cell_type": "markdown",
   "id": "048605ef",
   "metadata": {},
   "source": [
    "linear transformation expression\n",
    "![image.png](attachment:image.png)"
   ]
  },
  {
   "cell_type": "code",
   "execution_count": null,
   "id": "05b765bd",
   "metadata": {},
   "outputs": [],
   "source": []
  },
  {
   "cell_type": "code",
   "execution_count": 55,
   "id": "f3850c0a",
   "metadata": {},
   "outputs": [],
   "source": [
    "T=np.array([[1,2],\n",
    "           [3,7]])\n",
    "v1=np.array([[1],\n",
    "           [0]])\n",
    "v2=np.array([[0],\n",
    "           [1]])"
   ]
  },
  {
   "cell_type": "code",
   "execution_count": 62,
   "id": "342d236e",
   "metadata": {
    "scrolled": true
   },
   "outputs": [
    {
     "name": "stdout",
     "output_type": "stream",
     "text": [
      "T.v1 =\n",
      " [[1]\n",
      " [3]]\n",
      "\n",
      "T.v2 =\n",
      " [[2]\n",
      " [7]]\n"
     ]
    }
   ],
   "source": [
    "print(\"T.v1 =\\n\",T@v1)\n",
    "print(\"\\nT.v2 =\\n\",T@v2)"
   ]
  },
  {
   "cell_type": "code",
   "execution_count": 27,
   "id": "d3e46a3d",
   "metadata": {},
   "outputs": [
    {
     "name": "stdout",
     "output_type": "stream",
     "text": [
      "A.v1=\n",
      "[[1]\n",
      " [3]]\n",
      "\n",
      "A.v2=\n",
      "[[2]\n",
      " [7]]\n"
     ]
    }
   ],
   "source": []
  },
  {
   "cell_type": "code",
   "execution_count": 64,
   "id": "e93b32c8",
   "metadata": {},
   "outputs": [
    {
     "data": {
      "text/plain": [
       "array([[ 7.],\n",
       "       [-3.]])"
      ]
     },
     "execution_count": 64,
     "metadata": {},
     "output_type": "execute_result"
    }
   ],
   "source": [
    "np.linalg.inv(T) @ v1"
   ]
  },
  {
   "cell_type": "code",
   "execution_count": 29,
   "id": "5e4bdf4e",
   "metadata": {},
   "outputs": [
    {
     "name": "stdout",
     "output_type": "stream",
     "text": [
      "(x,y):\n",
      "[[ 7.]\n",
      " [-3.]]\n"
     ]
    }
   ],
   "source": []
  },
  {
   "cell_type": "markdown",
   "id": "aa9f63c6",
   "metadata": {},
   "source": [
    "### Ex.2\n",
    "### For the expression $$T\\begin{bmatrix} x \\\\ y \\end{bmatrix}=\\begin{bmatrix} x+y \\\\ y \\end{bmatrix}$$\n",
    "- Find the transformation matrix.\n",
    "- Represent the transformation graphically <b>(on paper)</b>.\n",
    "- Find all points <b>(x,y)</b> such that <b>T(x,y)=(3,4)</b>"
   ]
  },
  {
   "cell_type": "markdown",
   "id": "47f209ce",
   "metadata": {},
   "source": [
    "t=[[1 1]\n",
    "   [0 1]]"
   ]
  },
  {
   "cell_type": "code",
   "execution_count": 67,
   "id": "d4bfb06a",
   "metadata": {},
   "outputs": [
    {
     "data": {
      "text/plain": [
       "array([[-1.],\n",
       "       [ 4.]])"
      ]
     },
     "execution_count": 67,
     "metadata": {},
     "output_type": "execute_result"
    }
   ],
   "source": [
    "v=np.array([[3],[4]])\n",
    "T = np.array([[1 , 1],\n",
    "              [0 , 1]])\n",
    "np.linalg.inv(T) @ v"
   ]
  },
  {
   "cell_type": "code",
   "execution_count": 32,
   "id": "96dd3fd1",
   "metadata": {},
   "outputs": [
    {
     "name": "stdout",
     "output_type": "stream",
     "text": [
      "x:\n",
      "[[-1.]\n",
      " [ 4.]]\n"
     ]
    }
   ],
   "source": []
  },
  {
   "cell_type": "markdown",
   "id": "81b7edf9",
   "metadata": {},
   "source": [
    "## Determinant\n",
    "### Find Determinant of:"
   ]
  },
  {
   "cell_type": "markdown",
   "id": "f999e755",
   "metadata": {},
   "source": [
    "$$\\begin{bmatrix} 3&8 \\\\ 4&6 \\end{bmatrix} , \\begin{bmatrix} 4&6 \\\\ 3&8 \\end{bmatrix}$$\n",
    "$$\\begin{bmatrix} 6&1&1 \\\\ 4&-2&5 \\\\ 2&8&7\\end{bmatrix}$$\n",
    "$$\\begin{bmatrix} 3&2&0&1 \\\\ 4&0&1&2 \\\\ 3&0&2&1 \\\\ 9&2&3&1\\end{bmatrix}$$\n"
   ]
  },
  {
   "cell_type": "code",
   "execution_count": 68,
   "id": "0e1840b9",
   "metadata": {},
   "outputs": [
    {
     "name": "stdout",
     "output_type": "stream",
     "text": [
      "1.  -14\n",
      "2.  14\n",
      "3.  -306\n",
      "4.  24\n"
     ]
    }
   ],
   "source": [
    "M1=sm.Matrix([[3,4],\n",
    "              [8,6]])\n",
    "M2=sm.Matrix([[4,3],\n",
    "              [6,8]])\n",
    "M3=sm.Matrix([[6,4,2],\n",
    "              [1,-2,8]\n",
    "              ,[1,5,7]])\n",
    "M4=sm.Matrix([[3,4,3,9],\n",
    "              [2,0,0,2],\n",
    "              [0,1,2,3],\n",
    "              [1,2,1,1]])\n",
    "print(\"1. \",sm.det(M1))\n",
    "print(\"2. \",sm.det(M2))\n",
    "print(\"3. \",sm.det(M3))\n",
    "print(\"4. \",sm.det(M4))"
   ]
  },
  {
   "cell_type": "code",
   "execution_count": 39,
   "id": "95fc52ce",
   "metadata": {},
   "outputs": [
    {
     "name": "stdout",
     "output_type": "stream",
     "text": [
      "1.  -14.000000000000004\n",
      "2.  14.000000000000004\n",
      "3.  -306.0\n",
      "4.  24.000000000000004\n"
     ]
    }
   ],
   "source": []
  },
  {
   "cell_type": "markdown",
   "id": "3d7f760c",
   "metadata": {},
   "source": [
    "## Matrix Rank\n",
    "### Find the rank of the matrix (use rref and confirm using matrix_rank())"
   ]
  },
  {
   "cell_type": "markdown",
   "id": "39022ae4",
   "metadata": {},
   "source": [
    "$$X = \\begin{bmatrix} 1&2&4&4 \\\\ 3&4&8&0 \\end{bmatrix}$$\n",
    "$$Y = \\begin{bmatrix} 1&2&3 \\\\ 2&3&5 \\\\ 3&4&7 \\\\ 4&5&9  \\end{bmatrix}$$"
   ]
  },
  {
   "cell_type": "code",
   "execution_count": 73,
   "id": "fa1d25ef",
   "metadata": {},
   "outputs": [
    {
     "name": "stdout",
     "output_type": "stream",
     "text": [
      "(Matrix([\n",
      "[1, 0, 0, -8],\n",
      "[0, 1, 2,  6]]), (0, 1))\n",
      "X rank:  2\n"
     ]
    }
   ],
   "source": [
    "a1=np.array([[1,2,4,4],\n",
    "              [3,4,8,0]])\n",
    "M1=sm.Matrix(a1)\n",
    "print(M1.rref())\n",
    "\n",
    "print(\"\\nX rank: \",np.linalg.matrix_rank(a1))"
   ]
  },
  {
   "cell_type": "code",
   "execution_count": 49,
   "id": "6855c257",
   "metadata": {},
   "outputs": [
    {
     "name": "stdout",
     "output_type": "stream",
     "text": [
      "(Matrix([\n",
      "[1, 0, 0, -8],\n",
      "[0, 1, 2,  6]]), (0, 1))\n",
      "\n",
      "X rank: 2\n"
     ]
    }
   ],
   "source": [
    "###"
   ]
  },
  {
   "cell_type": "code",
   "execution_count": 76,
   "id": "a96b22c5",
   "metadata": {},
   "outputs": [
    {
     "name": "stdout",
     "output_type": "stream",
     "text": [
      "(Matrix([\n",
      "[1, 0, 1],\n",
      "[0, 1, 1],\n",
      "[0, 0, 0],\n",
      "[0, 0, 0]]), (0, 1))\n",
      "\n",
      "Y rank:  2\n"
     ]
    }
   ],
   "source": [
    "a1=np.array([[1,2,3],\n",
    "              [2,3,5],\n",
    "            [3,4,7],\n",
    "            [4,5,9]])\n",
    "M1=sm.Matrix(a1)\n",
    "print(M1.rref())\n",
    "\n",
    "print(\"\\nY rank: \",np.linalg.matrix_rank(a1))"
   ]
  },
  {
   "cell_type": "code",
   "execution_count": 50,
   "id": "864a8f85",
   "metadata": {},
   "outputs": [
    {
     "name": "stdout",
     "output_type": "stream",
     "text": [
      "(Matrix([\n",
      "[1, 0, 1],\n",
      "[0, 1, 1],\n",
      "[0, 0, 0],\n",
      "[0, 0, 0]]), (0, 1))\n",
      "\n",
      "Y rank: 2\n"
     ]
    }
   ],
   "source": [
    "####"
   ]
  },
  {
   "cell_type": "markdown",
   "id": "9b55ebcf",
   "metadata": {},
   "source": [
    "## Matrix Inverse\n",
    "### Find the inverse:"
   ]
  },
  {
   "cell_type": "markdown",
   "id": "6f15a14c",
   "metadata": {},
   "source": [
    "$$\\begin{bmatrix} 3&8 \\\\ 4&6 \\end{bmatrix} , \\begin{bmatrix} 4&6 \\\\ 3&8 \\end{bmatrix}$$\n",
    "$$\\begin{bmatrix} 6&1&1 \\\\ 4&-2&5 \\\\ 2&8&7\\end{bmatrix}$$\n",
    "$$\\begin{bmatrix} 3&2&0&1 \\\\ 4&0&1&2 \\\\ 3&0&2&1 \\\\ 9&2&3&1\\end{bmatrix}$$"
   ]
  },
  {
   "cell_type": "code",
   "execution_count": 79,
   "id": "f9dd762f",
   "metadata": {},
   "outputs": [
    {
     "name": "stdout",
     "output_type": "stream",
     "text": [
      "1. \n",
      " [[-0.42857143  0.57142857]\n",
      " [ 0.28571429 -0.21428571]]\n",
      "2. \n",
      " [[ 0.57142857 -0.42857143]\n",
      " [-0.21428571  0.28571429]]\n",
      "3. \n",
      " [[ 0.17647059 -0.00326797 -0.02287582]\n",
      " [ 0.05882353 -0.13071895  0.08496732]\n",
      " [-0.11764706  0.1503268   0.05228758]]\n",
      "4. \n",
      " [[-0.25        0.25       -0.5         0.25      ]\n",
      " [ 0.66666667 -0.5         0.5        -0.16666667]\n",
      " [ 0.16666667 -0.5         1.         -0.16666667]\n",
      " [ 0.41666667  0.25        0.5        -0.41666667]]\n"
     ]
    }
   ],
   "source": [
    "\n",
    "M1=np.array([[3,8],\n",
    "              [4,6]])\n",
    "\n",
    "print(\"1. \\n\",np.linalg.inv(M1))\n",
    "\n",
    "M2=np.array([[4,6],\n",
    "              [3,8]])\n",
    "\n",
    "print(\"2. \\n\",np.linalg.inv(M2))\n",
    "\n",
    "\n",
    "M3=np.array([[6,1,1],\n",
    "             [4,-2,5],\n",
    "             [2,8,7]])\n",
    "\n",
    "print(\"3. \\n\",np.linalg.inv(M3))\n",
    "M4=np.array([[3,2,0,1],\n",
    "             [4,0,1,2],\n",
    "             [3,0,2,1],\n",
    "             [9,2,3,1]])\n",
    "\n",
    "print(\"4. \\n\",np.linalg.inv(M4))"
   ]
  },
  {
   "cell_type": "code",
   "execution_count": 7,
   "id": "ff81fb7b",
   "metadata": {},
   "outputs": [
    {
     "name": "stdout",
     "output_type": "stream",
     "text": [
      "1.\n",
      " [[-0.42857143  0.57142857]\n",
      " [ 0.28571429 -0.21428571]]\n",
      "\n",
      "2.\n",
      " [[ 0.57142857 -0.42857143]\n",
      " [-0.21428571  0.28571429]]\n",
      "\n",
      "3.\n",
      " [[ 0.17647059 -0.00326797 -0.02287582]\n",
      " [ 0.05882353 -0.13071895  0.08496732]\n",
      " [-0.11764706  0.1503268   0.05228758]]\n",
      "\n",
      "4.\n",
      " [[-0.25        0.25       -0.5         0.25      ]\n",
      " [ 0.66666667 -0.5         0.5        -0.16666667]\n",
      " [ 0.16666667 -0.5         1.         -0.16666667]\n",
      " [ 0.41666667  0.25        0.5        -0.41666667]]\n"
     ]
    }
   ],
   "source": []
  },
  {
   "attachments": {
    "image-3.png": {
     "image/png": "[encoded data removed]"
    }
   },
   "cell_type": "markdown",
   "id": "6dfa4568",
   "metadata": {},
   "source": [
    "## Changing Basis (Orthogonal Coordinates)\n",
    "### Perform the following (Once by dot product and another by matix). \n",
    "### First confirm b1 and b2 are orthogonal basis.\n",
    "![image-3.png](attachment:image-3.png)"
   ]
  },
  {
   "cell_type": "code",
   "execution_count": 55,
   "id": "1ac7a564",
   "metadata": {},
   "outputs": [
    {
     "name": "stdout",
     "output_type": "stream",
     "text": [
      "Using dot product\n",
      "vb:\n",
      "[[2.]\n",
      " [3.]]\n"
     ]
    }
   ],
   "source": []
  },
  {
   "cell_type": "code",
   "execution_count": 56,
   "id": "f1738498",
   "metadata": {
    "scrolled": false
   },
   "outputs": [
    {
     "name": "stdout",
     "output_type": "stream",
     "text": [
      "Using transformation matrix\n",
      "vb:\n",
      "[[2.]\n",
      " [3.]]\n"
     ]
    }
   ],
   "source": []
  },
  {
   "attachments": {
    "image-4.png": {
     "image/png": "[encoded data removed]"
    }
   },
   "cell_type": "markdown",
   "id": "87b1b94e",
   "metadata": {},
   "source": [
    "## Changing Basis (Non-Orthogonal Coordinates)\n",
    "### Perform the following. \n",
    "### First confirm b1 and b2 are non-orthogonal basis.\n",
    "![image-4.png](attachment:image-4.png)"
   ]
  },
  {
   "cell_type": "code",
   "execution_count": 58,
   "id": "dc21f392",
   "metadata": {},
   "outputs": [
    {
     "name": "stdout",
     "output_type": "stream",
     "text": [
      "vb:\n",
      "[[1.5]\n",
      " [0.5]]\n"
     ]
    }
   ],
   "source": []
  },
  {
   "attachments": {
    "image-3.png": {
     "image/png": "[encoded data removed]"
    }
   },
   "cell_type": "markdown",
   "id": "24e6f17d",
   "metadata": {},
   "source": [
    "## Transformation in Non-Orthonormal Space\n",
    "![image-3.png](attachment:image-3.png)"
   ]
  },
  {
   "cell_type": "code",
   "execution_count": 70,
   "id": "6a96c43f",
   "metadata": {
    "scrolled": true
   },
   "outputs": [
    {
     "name": "stdout",
     "output_type": "stream",
     "text": [
      "TB1 =\n",
      " [[ 2.  1.]\n",
      " [-3. -2.]]\n",
      "\n",
      "TB2 =\n",
      " [[ 2.  1.]\n",
      " [-5. -2.]]\n",
      "\n",
      "vb_TB1 =\n",
      " [[ 3.5]\n",
      " [-5.5]]\n",
      "\n",
      "vb_TB2 =\n",
      " [[ 3.5]\n",
      " [-8.5]]\n"
     ]
    }
   ],
   "source": []
  },
  {
   "attachments": {
    "image-2.png": {
     "image/png": "[encoded data removed]"
    }
   },
   "cell_type": "markdown",
   "id": "2b687c17",
   "metadata": {},
   "source": [
    "## Gram–Schmidt Process (Orthogonalization)\n",
    "![image-2.png](attachment:image-2.png)\n",
    "#### Confirm your answer using numpy.linalg.qr() function\n",
    "#### Make sure all vectors given above are basis in R3 space.\n",
    "#### Confirm that the orthogonal matrix has orthonormal vectors.\n",
    "#### Confirm that the transpose of the orthogonal matrix is it's inverse.\n",
    "#### Reflect the vector r = (1,3,4) arround the xy plane.\n",
    "#### Round all results to 3 decimal points."
   ]
  },
  {
   "cell_type": "code",
   "execution_count": 8,
   "id": "07ba3659",
   "metadata": {},
   "outputs": [
    {
     "name": "stdout",
     "output_type": "stream",
     "text": [
      "det(V): -15.0\n",
      "Mrref:\n",
      " (Matrix([\n",
      "[1, 0, 0],\n",
      "[0, 1, 0],\n",
      "[0, 0, 1]]), (0, 1, 2))\n"
     ]
    }
   ],
   "source": []
  },
  {
   "cell_type": "code",
   "execution_count": 13,
   "id": "95031239",
   "metadata": {},
   "outputs": [
    {
     "name": "stdout",
     "output_type": "stream",
     "text": [
      "u1:\n",
      "[[1]\n",
      " [2]\n",
      " [0]]\n",
      "\n",
      "u2:\n",
      "[[ 6.]\n",
      " [-3.]\n",
      " [-6.]]\n",
      "\n",
      "u3:\n",
      "[[ 0.44444444]\n",
      " [-0.22222222]\n",
      " [ 0.55555556]]\n",
      "\n",
      "e1:\n",
      "[[0.4472136 ]\n",
      " [0.89442719]\n",
      " [0.        ]]\n",
      "\n",
      "e2:\n",
      "[[ 0.66666667]\n",
      " [-0.33333333]\n",
      " [-0.66666667]]\n",
      "\n",
      "e3:\n",
      "[[ 0.59628479]\n",
      " [-0.2981424 ]\n",
      " [ 0.74535599]]\n"
     ]
    }
   ],
   "source": []
  },
  {
   "cell_type": "code",
   "execution_count": 14,
   "id": "857b9624",
   "metadata": {
    "scrolled": true
   },
   "outputs": [
    {
     "name": "stdout",
     "output_type": "stream",
     "text": [
      "Using QR:\n",
      "[[-0.4472136   0.66666667  0.59628479]\n",
      " [-0.89442719 -0.33333333 -0.2981424 ]\n",
      " [-0.         -0.66666667  0.74535599]]\n"
     ]
    }
   ],
   "source": []
  },
  {
   "cell_type": "code",
   "execution_count": 10,
   "id": "5c2e8898",
   "metadata": {},
   "outputs": [
    {
     "data": {
      "text/plain": [
       "1.0"
      ]
     },
     "execution_count": 10,
     "metadata": {},
     "output_type": "execute_result"
    }
   ],
   "source": []
  },
  {
   "cell_type": "code",
   "execution_count": 11,
   "id": "405735fa",
   "metadata": {},
   "outputs": [
    {
     "name": "stdout",
     "output_type": "stream",
     "text": [
      "Q Inverse:\n",
      " [[-0.447 -0.894 -0.   ]\n",
      " [ 0.667 -0.333 -0.667]\n",
      " [ 0.596 -0.298  0.745]]\n",
      "Q Transpose\n",
      " [[-0.447 -0.894 -0.   ]\n",
      " [ 0.667 -0.333 -0.667]\n",
      " [ 0.596 -0.298  0.745]]\n"
     ]
    }
   ],
   "source": []
  },
  {
   "cell_type": "code",
   "execution_count": 17,
   "id": "53e683d9",
   "metadata": {},
   "outputs": [
    {
     "name": "stdout",
     "output_type": "stream",
     "text": [
      "Transformation matrix in the non-orthonormal basis:\n",
      "[[ 0.28888889  0.35555556 -0.88888889]\n",
      " [ 0.35555556  0.82222222  0.44444444]\n",
      " [-0.88888889  0.44444444 -0.11111111]]\n",
      "\n",
      "Transformed vector:\n",
      "[[-2.2]\n",
      " [ 4.6]\n",
      " [ 0. ]]\n"
     ]
    }
   ],
   "source": []
  },
  {
   "cell_type": "code",
   "execution_count": null,
   "id": "b788c2df",
   "metadata": {},
   "outputs": [],
   "source": []
  }
 ],
 "metadata": {
  "kernelspec": {
   "display_name": "Python 3 (ipykernel)",
   "language": "python",
   "name": "python3"
  },
  "language_info": {
   "codemirror_mode": {
    "name": "ipython",
    "version": 3
   },
   "file_extension": ".py",
   "mimetype": "text/x-python",
   "name": "python",
   "nbconvert_exporter": "python",
   "pygments_lexer": "ipython3",
   "version": "3.9.13"
  }
 },
 "nbformat": 4,
 "nbformat_minor": 5
}
