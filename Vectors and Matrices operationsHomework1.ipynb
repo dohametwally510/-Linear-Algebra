{
 "cells": [
  {
   "attachments": {},
   "cell_type": "markdown",
   "id": "e0401daa",
   "metadata": {},
   "source": [
    "# Exercise 1: (Using Python NumPy)\n"
   ]
  },
  {
   "cell_type": "code",
   "execution_count": 2,
   "id": "1fd92a7c",
   "metadata": {},
   "outputs": [],
   "source": [
    "import numpy as np\n",
    "import sympy as sm"
   ]
  },
  {
   "attachments": {
    "image.png": {
     "image/png": "[encoded data removed]"
    }
   },
   "cell_type": "markdown",
   "id": "809d70cf",
   "metadata": {},
   "source": [
    "# ![image.png](attachment:image.png)\n"
   ]
  },
  {
   "cell_type": "code",
   "execution_count": 3,
   "id": "d2fd80dd",
   "metadata": {},
   "outputs": [],
   "source": [
    "A = np.array([[0,1,1],\n",
    "             [1,0,1],\n",
    "             [1,1,0]])\n",
    "\n",
    "B = np.array([[0,2,3],\n",
    "             [0,5,0],\n",
    "             [7,0,0]])"
   ]
  },
  {
   "attachments": {},
   "cell_type": "markdown",
   "id": "f4c43c13",
   "metadata": {},
   "source": [
    "### Multiply A and B element by element."
   ]
  },
  {
   "cell_type": "code",
   "execution_count": 8,
   "id": "f2ae2d47",
   "metadata": {},
   "outputs": [
    {
     "name": "stdout",
     "output_type": "stream",
     "text": [
      "[[7 5 0]\n",
      " [7 2 3]\n",
      " [0 7 3]]\n"
     ]
    },
    {
     "data": {
      "text/plain": [
       "array([[7, 5, 0],\n",
       "       [7, 2, 3],\n",
       "       [0, 7, 3]])"
      ]
     },
     "execution_count": 8,
     "metadata": {},
     "output_type": "execute_result"
    }
   ],
   "source": [
    "c = np.matmul(A,B)\n",
    "print(c)\n",
    "A@B"
   ]
  },
  {
   "attachments": {},
   "cell_type": "markdown",
   "id": "31d74bc5",
   "metadata": {},
   "source": [
    "### Add A and B element by element."
   ]
  },
  {
   "cell_type": "code",
   "execution_count": 11,
   "id": "6f66c99c",
   "metadata": {},
   "outputs": [
    {
     "data": {
      "text/plain": [
       "array([[0, 3, 4],\n",
       "       [1, 5, 1],\n",
       "       [8, 1, 0]])"
      ]
     },
     "execution_count": 11,
     "metadata": {},
     "output_type": "execute_result"
    }
   ],
   "source": [
    "A + B"
   ]
  },
  {
   "cell_type": "code",
   "execution_count": 17,
   "id": "5ba4d8a9",
   "metadata": {},
   "outputs": [
    {
     "name": "stdout",
     "output_type": "stream",
     "text": [
      "0 3 4 \n",
      "1 5 1 \n",
      "8 1 0 \n"
     ]
    }
   ],
   "source": [
    "for rowA,rowB in zip(A , B) :\n",
    "    for i,j in zip(rowA , rowB) :\n",
    "        print(i+j ,end= \" \")\n",
    "    print()"
   ]
  },
  {
   "attachments": {},
   "cell_type": "markdown",
   "id": "60e60e66",
   "metadata": {},
   "source": [
    "### Transpose matrix A to A T."
   ]
  },
  {
   "cell_type": "code",
   "execution_count": 24,
   "id": "90ffb37c",
   "metadata": {},
   "outputs": [
    {
     "name": "stdout",
     "output_type": "stream",
     "text": [
      "A :\n",
      " [[0 1 1]\n",
      " [1 0 1]\n",
      " [1 1 0]]\n",
      "\n",
      "A.T :\n",
      " [[0 1 1]\n",
      " [1 0 1]\n",
      " [1 1 0]]\n"
     ]
    }
   ],
   "source": [
    "print(\"A :\\n\",A)\n",
    "print(\"\\nA.T :\\n\", A.T)"
   ]
  },
  {
   "attachments": {},
   "cell_type": "markdown",
   "id": "d923c2d4",
   "metadata": {},
   "source": [
    "### Extract the second row of matrix A, that is 1 0 1 and print it."
   ]
  },
  {
   "cell_type": "code",
   "execution_count": 27,
   "id": "716f06df",
   "metadata": {},
   "outputs": [
    {
     "name": "stdout",
     "output_type": "stream",
     "text": [
      "[1 0 1]\n"
     ]
    }
   ],
   "source": [
    "print(A[1,:])"
   ]
  },
  {
   "attachments": {},
   "cell_type": "markdown",
   "id": "ff04ec6c",
   "metadata": {},
   "source": [
    "#### Use matrix slicing to define vector `a` as the last column of matrix ` A ` and vector` b` as the last row of matrix `B`. Do not simply hard code the numbers of these vectors but use slicing. Then add up `a` and `b` and print the result.\n"
   ]
  },
  {
   "cell_type": "code",
   "execution_count": 32,
   "id": "b6eb90df",
   "metadata": {},
   "outputs": [
    {
     "name": "stdout",
     "output_type": "stream",
     "text": [
      "a =  [1 1 0]\n",
      "b =  [7 0 0]\n",
      "a + b =  [8 1 0]\n"
     ]
    }
   ],
   "source": [
    "a = A[:,-1]\n",
    "b = B[-1,:]\n",
    "print(\"a = \",a)\n",
    "print(\"b = \",b)\n",
    "print(\"a + b = \", a+b)"
   ]
  },
  {
   "cell_type": "markdown",
   "id": "69f98159",
   "metadata": {},
   "source": [
    "# Exercise 2: "
   ]
  },
  {
   "attachments": {},
   "cell_type": "markdown",
   "id": "00de8dbe",
   "metadata": {},
   "source": [
    "### (Solve by hand the confirm using Python NumPy)"
   ]
  },
  {
   "attachments": {
    "image.png": {
     "image/png": "[encoded data removed]"
    }
   },
   "cell_type": "markdown",
   "id": "ec7c7afc",
   "metadata": {},
   "source": [
    "![image.png](attachment:image.png)"
   ]
  },
  {
   "cell_type": "code",
   "execution_count": 33,
   "id": "8360a31a",
   "metadata": {},
   "outputs": [
    {
     "name": "stdout",
     "output_type": "stream",
     "text": [
      "v =  [2 4 1]\n",
      "u =  [1 3 5]\n"
     ]
    }
   ],
   "source": [
    "v = np.array([2,4,1])\n",
    "u = np.array([1,3,5])\n",
    "print(\"v = \",v)\n",
    "print(\"u = \",u)"
   ]
  },
  {
   "attachments": {},
   "cell_type": "markdown",
   "id": "dcf6d238",
   "metadata": {},
   "source": [
    "### Find the dot products of v and u."
   ]
  },
  {
   "cell_type": "code",
   "execution_count": 38,
   "id": "96becc60",
   "metadata": {},
   "outputs": [
    {
     "name": "stdout",
     "output_type": "stream",
     "text": [
      "v.u =  19\n",
      "v@u =  19\n"
     ]
    }
   ],
   "source": [
    "c = np.dot(v,u)\n",
    "print(\"v.u = \",c)\n",
    "print(\"v@u = \",v@u)"
   ]
  },
  {
   "attachments": {},
   "cell_type": "markdown",
   "id": "e262d53c",
   "metadata": {},
   "source": [
    "### Find the vector norm for each vector (L1,L2,L3,L4,Max)."
   ]
  },
  {
   "cell_type": "code",
   "execution_count": 40,
   "id": "9907e216",
   "metadata": {},
   "outputs": [],
   "source": [
    "from math import inf"
   ]
  },
  {
   "cell_type": "code",
   "execution_count": 41,
   "id": "f6b906de",
   "metadata": {},
   "outputs": [
    {
     "name": "stdout",
     "output_type": "stream",
     "text": [
      "L1 norm :  7.0\n",
      "L2 norm :  4.58257569495584\n",
      "L3 norm :  4.179339196381232\n",
      "L4 norm :  4.064813850824944\n",
      "Max norm :  4.0\n"
     ]
    }
   ],
   "source": [
    "# v =  [2 4 1]\n",
    "print(\"L1 norm : \",np.linalg.norm(v,1))\n",
    "print(\"L2 norm : \",np.linalg.norm(v))\n",
    "print(\"L3 norm : \",np.linalg.norm(v,3))\n",
    "print(\"L4 norm : \",np.linalg.norm(v,4))\n",
    "print(\"Max norm : \",np.linalg.norm(v,inf))"
   ]
  },
  {
   "cell_type": "code",
   "execution_count": 42,
   "id": "14e87930",
   "metadata": {},
   "outputs": [
    {
     "name": "stdout",
     "output_type": "stream",
     "text": [
      "L1 norm :  9.0\n",
      "L2 norm :  5.916079783099616\n",
      "L3 norm :  5.348481241239363\n",
      "L4 norm :  5.156497997732246\n",
      "Max norm :  5.0\n"
     ]
    }
   ],
   "source": [
    "# u =  [1 3 5]\n",
    "print(\"L1 norm : \",np.linalg.norm(u,1))\n",
    "print(\"L2 norm : \",np.linalg.norm(u))\n",
    "print(\"L3 norm : \",np.linalg.norm(u,3))\n",
    "print(\"L4 norm : \",np.linalg.norm(u,4))\n",
    "print(\"Max norm : \",np.linalg.norm(u,inf))"
   ]
  },
  {
   "cell_type": "markdown",
   "id": "387fff69",
   "metadata": {},
   "source": [
    "### Find vector sum v+u and the norm of this sum."
   ]
  },
  {
   "cell_type": "code",
   "execution_count": 44,
   "id": "0202091e",
   "metadata": {},
   "outputs": [
    {
     "name": "stdout",
     "output_type": "stream",
     "text": [
      "sum =  [3 7 6]\n",
      "\n",
      "L1 norm :  16.0\n",
      "L2 norm :  9.695359714832659\n",
      "L3 norm :  8.368209391204644\n",
      "L4 norm :  7.839989632806745\n",
      "Max norm :  7.0\n"
     ]
    }
   ],
   "source": [
    "sum_ = v + u\n",
    "print(\"sum = \",sum_)\n",
    "print(\"\\nL1 norm : \",np.linalg.norm(sum_,1))\n",
    "print(\"L2 norm : \",np.linalg.norm(sum_))\n",
    "print(\"L3 norm : \",np.linalg.norm(sum_,3))\n",
    "print(\"L4 norm : \",np.linalg.norm(sum_,4))\n",
    "print(\"Max norm : \",np.linalg.norm(sum_,inf))"
   ]
  },
  {
   "attachments": {},
   "cell_type": "markdown",
   "id": "7d89c027",
   "metadata": {},
   "source": [
    "# Exercise 3: "
   ]
  },
  {
   "cell_type": "markdown",
   "id": "c5c3f661",
   "metadata": {},
   "source": [
    "### Solve the following system of equation using elimination and back substitution:"
   ]
  },
  {
   "cell_type": "markdown",
   "id": "92c1a4ee",
   "metadata": {},
   "source": [
    "`   2x + 3y =1    `\n",
    "\n",
    "`   10x + 9y =11   `"
   ]
  },
  {
   "cell_type": "code",
   "execution_count": 46,
   "id": "ebcfc054",
   "metadata": {},
   "outputs": [
    {
     "data": {
      "text/plain": [
       "(Matrix([\n",
       " [1, 0,  2],\n",
       " [0, 1, -1]]),\n",
       " (0, 1))"
      ]
     },
     "execution_count": 46,
     "metadata": {},
     "output_type": "execute_result"
    }
   ],
   "source": [
    "M = sm.Matrix([[2,3,1],\n",
    "               [10,9,11]])\n",
    "M.rref()"
   ]
  },
  {
   "cell_type": "markdown",
   "id": "e3e890c7",
   "metadata": {},
   "source": [
    "`   2x - 4y = 6    `\n",
    "\n",
    "`   -1x + 5y = 0   `"
   ]
  },
  {
   "cell_type": "code",
   "execution_count": 54,
   "id": "4c51195d",
   "metadata": {},
   "outputs": [
    {
     "data": {
      "text/plain": [
       "(Matrix([\n",
       " [1, 0, 5],\n",
       " [0, 1, 1]]),\n",
       " (0, 1))"
      ]
     },
     "execution_count": 54,
     "metadata": {},
     "output_type": "execute_result"
    }
   ],
   "source": [
    "M = sm.Matrix([[2,-4,6],\n",
    "               [-1,5,0]])\n",
    "M.rref()"
   ]
  },
  {
   "attachments": {
    "image-2.png": {
     "image/png": "[encoded data removed]"
    }
   },
   "cell_type": "markdown",
   "id": "c4af7e97",
   "metadata": {},
   "source": [
    "![image-2.png](attachment:image-2.png)"
   ]
  },
  {
   "cell_type": "code",
   "execution_count": 50,
   "id": "1da8ca3e",
   "metadata": {},
   "outputs": [
    {
     "data": {
      "text/plain": [
       "(Matrix([\n",
       " [1, 0, 0],\n",
       " [0, 1, 0],\n",
       " [0, 0, 1]]),\n",
       " (0, 1, 2))"
      ]
     },
     "execution_count": 50,
     "metadata": {},
     "output_type": "execute_result"
    }
   ],
   "source": [
    "M = sm.Matrix([[1,1,0],\n",
    "               [1,2,1],\n",
    "        -        [0,1,2]])\n",
    "M.rref()"
   ]
  },
  {
   "attachments": {},
   "cell_type": "markdown",
   "id": "63a1d9c8",
   "metadata": {},
   "source": [
    "### Use elimination to reach upper triangular matrices U. Solve by back substitution or explain why this is impossible. \n"
   ]
  },
  {
   "cell_type": "markdown",
   "id": "ef0a06f2",
   "metadata": {},
   "source": [
    "`   x+y+z =7    `\n",
    "\n",
    "`   x+y-z =5   `\n",
    "\n",
    "`   x-y+z =3   `"
   ]
  },
  {
   "cell_type": "code",
   "execution_count": 51,
   "id": "f478b2b8",
   "metadata": {},
   "outputs": [
    {
     "data": {
      "text/plain": [
       "(Matrix([\n",
       " [1, 0, 0, 4],\n",
       " [0, 1, 0, 2],\n",
       " [0, 0, 1, 1]]),\n",
       " (0, 1, 2))"
      ]
     },
     "execution_count": 51,
     "metadata": {},
     "output_type": "execute_result"
    }
   ],
   "source": [
    "M = sm.Matrix([[1,1,1,7],\n",
    "               [1,1,-1,5],\n",
    "               [1,-1,1,3]])\n",
    "\n",
    "M.rref()"
   ]
  },
  {
   "cell_type": "markdown",
   "id": "d44043ca",
   "metadata": {},
   "source": [
    "`   x+y+z =7    `\n",
    "\n",
    "`   x+y-z =5   `\n",
    "\n",
    "`   -x-y+z =3   `"
   ]
  },
  {
   "cell_type": "code",
   "execution_count": 53,
   "id": "0367dfea",
   "metadata": {},
   "outputs": [
    {
     "data": {
      "text/plain": [
       "(Matrix([\n",
       " [1, 1, 0, 0],\n",
       " [0, 0, 1, 0],\n",
       " [0, 0, 0, 1]]),\n",
       " (0, 2, 3))"
      ]
     },
     "execution_count": 53,
     "metadata": {},
     "output_type": "execute_result"
    }
   ],
   "source": [
    "M = sm.Matrix([[1,1,1,7],\n",
    "               [1,1,-1,5],\n",
    "               [-1,-1,1,3]])\n",
    "\n",
    "M.rref()"
   ]
  },
  {
   "attachments": {},
   "cell_type": "markdown",
   "id": "9a6312ef",
   "metadata": {},
   "source": [
    "# Quiz"
   ]
  },
  {
   "cell_type": "code",
   "execution_count": 60,
   "id": "662fc800",
   "metadata": {},
   "outputs": [],
   "source": [
    "u = np.array([3,2])\n",
    "v = np.array([-1,2])\n"
   ]
  },
  {
   "cell_type": "code",
   "execution_count": 62,
   "id": "9ee4fefb",
   "metadata": {},
   "outputs": [
    {
     "name": "stdout",
     "output_type": "stream",
     "text": [
      "L1 norm :  5.0\n",
      "L2 norm :  3.605551275463989\n",
      "L3 norm :  3.2710663101885897\n",
      "L4 norm :  3.138288992714996\n",
      "Max norm :  3.0\n"
     ]
    }
   ],
   "source": [
    "#||u||\n",
    "print(\"L1 norm : \",np.linalg.norm(u,1))\n",
    "print(\"L2 norm : \",np.linalg.norm(u))\n",
    "print(\"L3 norm : \",np.linalg.norm(u,3))\n",
    "print(\"L4 norm : \",np.linalg.norm(u,4))\n",
    "print(\"Max norm : \",np.linalg.norm(u,inf))"
   ]
  },
  {
   "cell_type": "code",
   "execution_count": 64,
   "id": "39b71064",
   "metadata": {},
   "outputs": [
    {
     "name": "stdout",
     "output_type": "stream",
     "text": [
      "L1 norm :  3.0\n",
      "L2 norm :  2.23606797749979\n",
      "L3 norm :  2.080083823051904\n",
      "L4 norm :  2.0305431848689306\n",
      "Max norm :  2.0\n"
     ]
    }
   ],
   "source": [
    "#||v||\n",
    "print(\"L1 norm : \",np.linalg.norm(v,1))\n",
    "print(\"L2 norm : \",np.linalg.norm(v))\n",
    "print(\"L3 norm : \",np.linalg.norm(v,3))\n",
    "print(\"L4 norm : \",np.linalg.norm(v,4))\n",
    "print(\"Max norm : \",np.linalg.norm(v,inf))"
   ]
  },
  {
   "cell_type": "code",
   "execution_count": 65,
   "id": "1b5fee4d",
   "metadata": {},
   "outputs": [
    {
     "name": "stdout",
     "output_type": "stream",
     "text": [
      "L1 norm :  6.0\n",
      "L2 norm :  4.47213595499958\n",
      "L3 norm :  4.160167646103808\n",
      "L4 norm :  4.061086369737861\n",
      "Max norm :  4.0\n"
     ]
    }
   ],
   "source": [
    "#||v|| +||u||\n",
    "c = v + u\n",
    "print(\"L1 norm : \",np.linalg.norm(c,1))\n",
    "print(\"L2 norm : \",np.linalg.norm(c))\n",
    "print(\"L3 norm : \",np.linalg.norm(c,3))\n",
    "print(\"L4 norm : \",np.linalg.norm(c,4))\n",
    "print(\"Max norm : \",np.linalg.norm(c,inf))"
   ]
  },
  {
   "cell_type": "code",
   "execution_count": 68,
   "id": "97f5f1ee",
   "metadata": {},
   "outputs": [
    {
     "data": {
      "text/plain": [
       "1"
      ]
     },
     "execution_count": 68,
     "metadata": {},
     "output_type": "execute_result"
    }
   ],
   "source": [
    "#v.u\n",
    "v@u"
   ]
  },
  {
   "cell_type": "code",
   "execution_count": 69,
   "id": "dad4006a",
   "metadata": {},
   "outputs": [
    {
     "name": "stdout",
     "output_type": "stream",
     "text": [
      "[[ 16  -9]\n",
      " [  3 -10]\n",
      " [  3   0]]\n"
     ]
    }
   ],
   "source": [
    "A = np.array([[2,1,3],\n",
    "              [3,-2,1],\n",
    "              [-1,0,1]])\n",
    "B = np.array([[1,-2],\n",
    "              [2,1],\n",
    "              [4,-2]])\n",
    "C = np.matmul(A,B)\n",
    "print(C)"
   ]
  }
 ],
 "metadata": {
  "kernelspec": {
   "display_name": "Python 3 (ipykernel)",
   "language": "python",
   "name": "python3"
  },
  "language_info": {
   "codemirror_mode": {
    "name": "ipython",
    "version": 3
   },
   "file_extension": ".py",
   "mimetype": "text/x-python",
   "name": "python",
   "nbconvert_exporter": "python",
   "pygments_lexer": "ipython3",
   "version": "3.9.13"
  }
 },
 "nbformat": 4,
 "nbformat_minor": 5
}
